{
  "nbformat": 4,
  "nbformat_minor": 0,
  "metadata": {
    "colab": {
      "name": "Exploração do Modelo",
      "provenance": [],
      "collapsed_sections": [],
      "toc_visible": true,
      "include_colab_link": true
    },
    "kernelspec": {
      "name": "python3",
      "display_name": "Python 3"
    },
    "language_info": {
      "name": "python"
    },
    "accelerator": "GPU"
  },
  "cells": [
    {
      "cell_type": "markdown",
      "metadata": {
        "id": "view-in-github",
        "colab_type": "text"
      },
      "source": [
        "<a href=\"https://colab.research.google.com/github/filipecalegario/stylegan2-ada-experiments/blob/main/Explora%C3%A7%C3%A3o_do_Modelo.ipynb\" target=\"_parent\"><img src=\"https://colab.research.google.com/assets/colab-badge.svg\" alt=\"Open In Colab\"/></a>"
      ]
    },
    {
      "cell_type": "markdown",
      "metadata": {
        "id": "qmdpBDxxVEFF"
      },
      "source": [
        "# StyleGAN2-ADA (PyTorch): Explorando as imagens geradas por um modelo\n",
        "\n",
        "Referência: https://github.com/NVlabs/stylegan2-ada-pytorch"
      ]
    },
    {
      "cell_type": "markdown",
      "metadata": {
        "id": "6A9oR2zwVNSU"
      },
      "source": [
        "## Configurações Iniciais"
      ]
    },
    {
      "cell_type": "markdown",
      "metadata": {
        "id": "0qCrGxFJVQYk"
      },
      "source": [
        "### Checar uso de GPU (placa de vídeo)\n",
        "\n",
        "Ao executar a célula a seguir, é esperado que você veja uma tabela com as configurações da placa de vídeo atualmente utilizada por seu ambiente de execução.\n",
        "<br>\n",
        "Caso o comando a seguir falhe, vá no menu do canto superior esquerdo e, na aba ***Runtime***, entre em ***Change runtime type***. Dentro desse novo menu, vá em ***Hardware accelerator*** e selecione a opção ***GPU***, por fim salve.\n",
        "<br>\n",
        "Rode novamente a célula abaixo para checar se o ambiente de execução agora tem uma placa de vídeo conectada."
      ]
    },
    {
      "cell_type": "code",
      "metadata": {
        "id": "gxovQx5cVT0u"
      },
      "source": [
        "!nvidia-smi"
      ],
      "execution_count": null,
      "outputs": []
    },
    {
      "cell_type": "markdown",
      "metadata": {
        "id": "zfhVbo8nVVmZ"
      },
      "source": [
        "### Instalação de pré-requisitos\n",
        "\n",
        "Referência: https://github.com/NVlabs/stylegan2-ada-pytorch/issues/2"
      ]
    },
    {
      "cell_type": "code",
      "metadata": {
        "id": "wI4xDeNdVW0J"
      },
      "source": [
        "%pip install ninja"
      ],
      "execution_count": null,
      "outputs": []
    },
    {
      "cell_type": "markdown",
      "metadata": {
        "id": "zaulAj-xVYqa"
      },
      "source": [
        "### Baixar código do StyleGAN2-ADA (PyTorch)\n",
        "\n",
        "Referência: https://github.com/woctezuma/stylegan2-ada-pytorch/tree/google-colab \n",
        "<br>\n",
        "Fork utilizada: https://github.com/ClaudioCarvalhoo/stylegan2-ada-pytorch"
      ]
    },
    {
      "cell_type": "code",
      "metadata": {
        "id": "jiLqlmerVZNX"
      },
      "source": [
        "%cd /content/\n",
        "\n",
        "%rm -rf stylegan2-ada-pytorch/\n",
        "!git clone https://github.com/ClaudioCarvalhoo/stylegan2-ada-pytorch\n",
        "\n",
        "%cd stylegan2-ada-pytorch/\n",
        "\n",
        "%cd /content/"
      ],
      "execution_count": null,
      "outputs": []
    },
    {
      "cell_type": "markdown",
      "metadata": {
        "id": "OWlyVauSVaiP"
      },
      "source": [
        "## Conectar com Google Drive"
      ]
    },
    {
      "cell_type": "code",
      "metadata": {
        "id": "ARY1fUpSVc83"
      },
      "source": [
        "%pip install Google-Colab-Transfer"
      ],
      "execution_count": null,
      "outputs": []
    },
    {
      "cell_type": "markdown",
      "metadata": {
        "id": "mFOGIR70VeGS"
      },
      "source": [
        "Ao executar a próxima célula, você receberá um link para pegar seu código de verificação do Google Drive.\n",
        "<br>\n",
        "Acesse com sua conta que tem as imagens de treinamento no Drive e cole o código recebido na caixa de texto que aparecerá abaixo."
      ]
    },
    {
      "cell_type": "code",
      "metadata": {
        "id": "zmNpzG9cVfXj"
      },
      "source": [
        "import colab_transfer\n",
        "\n",
        "colab_transfer.mount_google_drive()"
      ],
      "execution_count": null,
      "outputs": []
    },
    {
      "cell_type": "markdown",
      "metadata": {
        "id": "u0KdK9S9VgoG"
      },
      "source": [
        "Após executar a próxima célula, insira o caminho para o arquivo .pkl do seu modelo previamente criado, assim como o número de imagens que deseja gerar a cada ciclo.\n",
        "<br>\n",
        "Lembre-se de manter intacta a parte inicial do texto (/content/drive/MyDrive/) pois é o caminho do Colab para acessar a raíz de seu Drive."
      ]
    },
    {
      "cell_type": "code",
      "metadata": {
        "id": "fFL13TiwVkao"
      },
      "source": [
        "import ipywidgets as widgets\n",
        "\n",
        "model = widgets.Text(\n",
        "    value='/content/drive/MyDrive/sua_pasta/modelos/00001-nome-da-pasta/nome-do-modelo.pkl',\n",
        "    placeholder='Digite ou cole aqui o caminho',\n",
        "    layout=widgets.Layout(width='50%')\n",
        ")\n",
        "populationSize = widgets.BoundedIntText(\n",
        "    value=5,\n",
        "    min=1,\n",
        "    layout=widgets.Layout(width='50%')\n",
        ")\n",
        "\n",
        "widgets.VBox([\n",
        "    widgets.VBox([widgets.Label('Caminho para seu modelo:'), model]),\n",
        "    widgets.VBox([widgets.Label('Número de imagens geradas a cada ciclo:'), populationSize])          \n",
        "])"
      ],
      "execution_count": null,
      "outputs": []
    },
    {
      "cell_type": "markdown",
      "metadata": {
        "id": "BwkZzpSQV-nI"
      },
      "source": [
        "## Explorando a rede\n",
        "\n",
        "Após executar a célula abaixo, várias imagens serão geradas a partir de seu modelo. Abaixo delas, você encontrará um medidor no qual você pode indicar o quanto gostou de cada imagem como inspiração. A escala vai de 0 a 10 (da esquerda para a direita).\n",
        "\n",
        "Uma vez que você tenha avaliado todas as imagens, pressione o botão ***Update*** para gerar novas imagens, que serão inspiradas nas que você melhor avaliou anteriormente. Esse ciclo de inspirações pode ser repetido até que esteja satisfeito.\n",
        "\n",
        "Há uma caixa no canto inferior esquerdo na qual você pode controlar a taxa de mutação do sistema, ou seja, o quanto de mudanças aleatórias podem acontecer entre atualizações. Caso as imagens estejam ficando muito parecidas umas com as outras, pode ser uma boa ideia aumentar um pouco esse valor. Este campo aceita qualquer número entre 0 e 1."
      ]
    },
    {
      "cell_type": "code",
      "metadata": {
        "id": "MnOZQvfyXvCA"
      },
      "source": [
        "import sys  \n",
        "sys.path.insert(0, '/content/stylegan2-ada-pytorch')\n",
        "\n",
        "import genetic.colab as gui\n",
        "\n",
        "gui.run_colab(int(populationSize.value), model.value)"
      ],
      "execution_count": null,
      "outputs": []
    }
  ]
}